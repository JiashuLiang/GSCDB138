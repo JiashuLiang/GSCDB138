{
 "cells": [
  {
   "cell_type": "markdown",
   "metadata": {},
   "source": [
    "# GSCDB138 Dataset Analysis\n",
    "\n",
    "This notebook analyzes computational chemistry functional performance across the GSCDB138 benchmark database. The analysis includes:\n",
    "\n",
    "- Processing reaction energies from molecular energies\n",
    "- Converting finite difference data to physical properties (dipoles, polarizabilities, frequencies)\n",
    "- Computing error metrics (RMSE, MAE, relative errors) for different functionals\n",
    "- Statistical analysis across different property types\n",
    "\n",
    "**Input requirement:** `Molecule_Energies.xlsx` file containing:\n",
    "- **Column names:** Different computational methods/functionals\n",
    "- **Row names:** Individual molecules required in GSCDB138\n",
    "\n",
    "**Output Files Generated:**\n",
    "1. **Reaction_Energies.xlsx**: Processed reaction energies from molecular data\n",
    "2. **Results.xlsx**: Complete values and errors in the common units for all functionals\n",
    "3. **Errors_per_set.xlsx**: Error metrics (RMSE, MAE, MSE, specialized metrics) by dataset\n",
    "4. **Relative_metric_per_set.xlsx**: Normalized errors for cross-dataset comparison\n",
    "5. **Statistical_errors.xlsx**: Final functional performance ranking"
   ]
  },
  {
   "cell_type": "markdown",
   "metadata": {},
   "source": [
    "## Import Libraries and Setup\n",
    "\n",
    "Import required libraries and configure pandas display options for better output visualization."
   ]
  },
  {
   "cell_type": "code",
   "execution_count": 1,
   "metadata": {},
   "outputs": [],
   "source": [
    "# Standard library imports\n",
    "from glob import glob\n",
    "import shutil\n",
    "import os, sys, math\n",
    "\n",
    "# Data analysis libraries\n",
    "import pandas as pd\n",
    "import numpy as np\n",
    "from tqdm import tqdm\n",
    "\n",
    "# Configure pandas display options for better visualization\n",
    "pd.set_option('display.max_columns', None)\n",
    "pd.set_option('display.max_rows', None)\n",
    "pd.set_option('display.max_colwidth', None)\n",
    "pd.set_option('display.width', 5000)"
   ]
  },
  {
   "cell_type": "markdown",
   "metadata": {},
   "source": [
    "## Step 1: Load Data and Calculate Reaction Energies\n",
    "\n",
    "The following section processes stoichiometric data to calculate reaction energies from individual molecular energies."
   ]
  },
  {
   "cell_type": "code",
   "execution_count": 2,
   "metadata": {},
   "outputs": [
    {
     "name": "stdout",
     "output_type": "stream",
     "text": [
      "Calculating reaction energies...\n"
     ]
    },
    {
     "name": "stderr",
     "output_type": "stream",
     "text": [
      "8454it [00:02, 4152.95it/s]"
     ]
    },
    {
     "name": "stdout",
     "output_type": "stream",
     "text": [
      "Available functionals: ['Dataset', 'Reference', 'DSD-PBEPBE', 'B3LYP', 'CF22D', 'M062X', 'SOGGA11X', 'wB97M-V', 'wB97X-V', 'BMK', 'MGGA_MS2h', 'PBE0', 'CAMB3LYP', 'M052X', 'M08HX', 'MN15', 'PW6B95', 'r2SCAN0']\n"
     ]
    },
    {
     "name": "stderr",
     "output_type": "stream",
     "text": [
      "\n"
     ]
    }
   ],
   "source": [
    "# Load dataset information and molecular energies\n",
    "df_func = pd.read_excel(\"../Info/DatasetEval.xlsx\", header=0, index_col=0)\n",
    "df_energies = pd.read_excel(\"Molecule_Energies.xlsx\", index_col=0, header=0)\n",
    "funcs = df_energies.columns.tolist()\n",
    "\n",
    "# Convert reference energies from Hartree to kcal/mol\n",
    "df_func[\"Reference\"] *= 627.509     \n",
    "\n",
    "# Calculate reaction energies for each functional\n",
    "print(\"Calculating reaction energies...\")\n",
    "for idx, row in tqdm(df_func.iterrows()):\n",
    "    reactions = row[\"Stoichiometry\"].split(\",\")  # Parse stoichiometry string\n",
    "    ref_energy = row[\"Reference\"]\n",
    "    num_species = len(reactions) // 2  # Each species has coefficient and name\n",
    "    \n",
    "    for func in funcs:\n",
    "        reac_energy = 0\n",
    "        error = False\n",
    "        \n",
    "        # Sum up contributions from all species in the reaction\n",
    "        for i in range(num_species):\n",
    "            stoi = float(reactions[2*i])      # Stoichiometric coefficient\n",
    "            specy = reactions[2*i+1]          # Species name\n",
    "            energy = df_energies.loc[specy, func]\n",
    "            reac_energy += stoi * energy\n",
    "            \n",
    "        if error:\n",
    "            continue\n",
    "        \n",
    "        # Convert reaction energy from Hartree to kcal/mol\n",
    "        df_func.at[idx, func] = reac_energy * 627.509\n",
    "\n",
    "# Clean up dataframe by removing stoichiometry column\n",
    "df_func.drop(columns=[\"Stoichiometry\"], inplace=True)\n",
    "print(\"Available functionals:\", df_func.columns.tolist())"
   ]
  },
  {
   "cell_type": "markdown",
   "metadata": {},
   "source": [
    "## Step 2: Data Validation and Quality Control\n",
    "\n",
    "Check for missing data (NaN values) and ensure we only analyze datasets with complete functional coverage."
   ]
  },
  {
   "cell_type": "code",
   "execution_count": 3,
   "metadata": {},
   "outputs": [
    {
     "name": "stdout",
     "output_type": "stream",
     "text": [
      "Incomplete datasets: []\n",
      "Saved reaction energies for 8454 data points\n"
     ]
    }
   ],
   "source": [
    "# Check for NaN or None values by dataset and functional\n",
    "incomplete_datasets = []\n",
    "\n",
    "for dataset, df_dataset in df_func.groupby(\"Dataset\"):\n",
    "    empty_funcs = []\n",
    "    \n",
    "    # Check each functional column for NaN/None values\n",
    "    for func in funcs:\n",
    "        nan_count = df_dataset[func].isnull().sum()\n",
    "        if nan_count > 0:\n",
    "            empty_funcs.append(func)\n",
    "    \n",
    "    if empty_funcs:\n",
    "        print(f\"Dataset '{dataset}' has NaN values in functionals: {', '.join(empty_funcs)}\")\n",
    "        incomplete_datasets.append(dataset)\n",
    "\n",
    "print(f\"Incomplete datasets: {incomplete_datasets}\")\n",
    "\n",
    "# Filter to remove datasets with incomplete data\n",
    "df_func = df_func[~df_func[\"Dataset\"].isin(incomplete_datasets)]\n",
    "\n",
    "# Save processed reaction energies\n",
    "print(f\"Saved reaction energies for {len(df_func)} data points\")\n",
    "df_func.to_excel(\"Reaction_Energies.xlsx\", index=True, header=True)\n"
   ]
  },
  {
   "cell_type": "markdown",
   "metadata": {},
   "source": [
    "## Step 3: Unit Conversion Functions\n",
    "\n",
    "Define functions to convert finite difference energies to physical properties:\n",
    "- **Dipole moments**: From energy differences to Debye units\n",
    "- **Polarizabilities**: From energy differences to Å³ units  \n",
    "- **Vibrational frequencies**: From force constants to cm⁻¹ units\n",
    "\n",
    "Data conversion is performed for specific datasets:\n",
    "- **Dip146**: Dipole moments (step size: 0.0001)\n",
    "- **Pol130**: Polarizabilities (variable step sizes from FD_stepsize.xlsx)\n",
    "- **HR46, T144**: Polarizabilities (step size: 0.004)\n",
    "- **V30**: Vibrational frequencies (variable step sizes from FD_stepsize.xlsx)"
   ]
  },
  {
   "cell_type": "code",
   "execution_count": 4,
   "metadata": {},
   "outputs": [],
   "source": [
    "def convert_to_dipole(energy, step_size=0.0001, input_in_kcal=True, output_in_debye=True):\n",
    "    \"\"\"\n",
    "    Convert finite difference energy to dipole moment.\n",
    "    \n",
    "    Parameters:\n",
    "    -----------\n",
    "    energy : float\n",
    "        Energy difference from finite difference calculation\n",
    "    step_size : float, default=0.0001\n",
    "        Step size used in finite difference calculation\n",
    "    input_in_kcal : bool, default=True\n",
    "        Whether input energy is in kcal/mol (vs Hartree)\n",
    "    output_in_debye : bool, default=True\n",
    "        Whether to output in Debye units (vs atomic units)\n",
    "    \n",
    "    Returns:\n",
    "    --------\n",
    "    float : Dipole moment in specified units\n",
    "    \"\"\"\n",
    "    au_to_debye = 2.541746\n",
    "    output = energy\n",
    "    \n",
    "    if input_in_kcal:\n",
    "        output /= 627.509  # Convert kcal/mol to Hartree\n",
    "    \n",
    "    output /= 2 * step_size  # Convert to dipole moment in atomic units\n",
    "    \n",
    "    if output_in_debye:\n",
    "        output *= au_to_debye  # Convert to Debye\n",
    "    \n",
    "    return output\n",
    "\n",
    "\n",
    "def convert_to_polarizability(energy, step_size=0.01, input_in_kcal=True, output_in_A3=True):\n",
    "    \"\"\"\n",
    "    Convert finite difference energy to polarizability.\n",
    "    \n",
    "    Parameters:\n",
    "    -----------\n",
    "    energy : float\n",
    "        Energy difference from finite difference calculation\n",
    "    step_size : float, default=0.01\n",
    "        Step size used in finite difference calculation\n",
    "    input_in_kcal : bool, default=True\n",
    "        Whether input energy is in kcal/mol (vs Hartree)\n",
    "    output_in_A3 : bool, default=True\n",
    "        Whether to output in Å³ (vs atomic units)\n",
    "    \n",
    "    Returns:\n",
    "    --------\n",
    "    float : Polarizability in specified units\n",
    "    \"\"\"\n",
    "    au_to_bohr3 = 0.529177 ** 3  # Conversion factor from atomic units to Bohr³\n",
    "    output = energy\n",
    "    \n",
    "    if input_in_kcal:\n",
    "        output /= 627.509  # Convert kcal/mol to Hartree\n",
    "    \n",
    "    output /= step_size**2  # Convert to polarizability in atomic units\n",
    "    \n",
    "    if output_in_A3:\n",
    "        output *= au_to_bohr3  # Convert to Å³\n",
    "    \n",
    "    return output\n",
    "\n",
    "\n",
    "def convert_to_frequency(energy, step_size=0.01, input_in_kcal=True, output_in_cm=True):\n",
    "    \"\"\"\n",
    "    Convert finite difference energy to vibrational frequency.\n",
    "    \n",
    "    Parameters:\n",
    "    -----------\n",
    "    energy : float\n",
    "        Energy difference from finite difference calculation (force constant)\n",
    "    step_size : float, default=0.01\n",
    "        Step size used in finite difference calculation\n",
    "    input_in_kcal : bool, default=True\n",
    "        Whether input energy is in kcal/mol (vs Hartree)\n",
    "    output_in_cm : bool, default=True\n",
    "        Whether to output in cm⁻¹ (vs atomic units)\n",
    "    \n",
    "    Returns:\n",
    "    --------\n",
    "    float : Frequency in specified units (preserves sign for imaginary frequencies)\n",
    "    \"\"\"\n",
    "    constant_cm_to_hartree = 4.55633528e-6\n",
    "    convert_force_constant_to_au = 1 / (1.66053907e-27/9.10938370e-31 * (1/0.529177211)**2)\n",
    "    \n",
    "    fc = energy\n",
    "    if input_in_kcal:\n",
    "        fc /= 627.509  # Convert kcal/mol to Hartree\n",
    "    \n",
    "    signature = np.sign(fc)  # Preserve sign for imaginary frequencies\n",
    "    fc = np.abs(fc)  # Take absolute value for frequency calculation\n",
    "    fc /= step_size**2  # Calculate force constant in Hartree/Å²\n",
    "    fc *= convert_force_constant_to_au  # Convert to atomic units\n",
    "    freq = np.sqrt(fc)  # Calculate frequency in atomic units\n",
    "    \n",
    "    if output_in_cm:\n",
    "        freq /= constant_cm_to_hartree  # Convert to cm⁻¹\n",
    "    \n",
    "    freq *= signature  # Restore sign\n",
    "    return freq"
   ]
  },
  {
   "cell_type": "code",
   "execution_count": 5,
   "metadata": {},
   "outputs": [
    {
     "name": "stdout",
     "output_type": "stream",
     "text": [
      "Converting Dip146 to dipole moments...\n",
      "Converting Pol130 to polarizabilities...\n",
      "Converting HR46 and T144 to polarizabilities...\n",
      "Converting V30 to vibrational frequencies...\n"
     ]
    }
   ],
   "source": [
    "# Load processed reaction energies and step size information\n",
    "df_func = pd.read_excel(\"Reaction_Energies.xlsx\", index_col=0, header=0)\n",
    "df_stepsizes = pd.read_excel(\"../Info/FD_stepsize.xlsx\", header=0, index_col=0)\n",
    "\n",
    "# Get all functional columns (skip \"Dataset\" but also process \"Reference\")\n",
    "funcs = df_func.columns[1:]\n",
    "\n",
    "# Convert Dip146 dataset: Energy differences → Dipole moments (Debye)\n",
    "print(\"Converting Dip146 to dipole moments...\")\n",
    "dip146_index = df_func.index[df_func[\"Dataset\"] == \"Dip146\"].to_list()\n",
    "for idx in dip146_index:\n",
    "    for func in funcs:\n",
    "        df_func.at[idx, func] = convert_to_dipole(\n",
    "            df_func.at[idx, func], step_size=0.0001, \n",
    "            input_in_kcal=True, output_in_debye=True)\n",
    "\n",
    "# Convert Pol130 dataset: Energy differences → Polarizabilities (Å³)\n",
    "print(\"Converting Pol130 to polarizabilities...\")\n",
    "pol130_index = df_func.index[df_func[\"Dataset\"] == \"Pol130\"].to_list()\n",
    "for idx in pol130_index:\n",
    "    step_size = df_stepsizes.at[idx, \"fd step\"]\n",
    "    for func in funcs:\n",
    "        df_func.at[idx, func] = convert_to_polarizability(\n",
    "            df_func.at[idx, func], step_size=step_size,\n",
    "            input_in_kcal=True, output_in_A3=True)\n",
    "\n",
    "# Convert HR46 and T144 datasets: Energy differences → Polarizabilities (Å³)\n",
    "print(\"Converting HR46 and T144 to polarizabilities...\")\n",
    "hr46_and_t144_index = df_func.index[df_func[\"Dataset\"].isin([\"HR46\", \"T144\"])].to_list()\n",
    "for idx in hr46_and_t144_index:\n",
    "    for func in funcs:\n",
    "        df_func.at[idx, func] = convert_to_polarizability(\n",
    "            df_func.at[idx, func], step_size=0.004,\n",
    "            input_in_kcal=True, output_in_A3=True)\n",
    "\n",
    "# Convert V30 dataset: Force constants → Vibrational frequencies (cm⁻¹)\n",
    "print(\"Converting V30 to vibrational frequencies...\")\n",
    "v30_index = df_func.index[df_func[\"Dataset\"] == \"V30\"].to_list()\n",
    "for idx in v30_index:\n",
    "    step_size = df_stepsizes.at[idx, \"fd step\"]\n",
    "    for func in funcs:\n",
    "        df_func.at[idx, func] = convert_to_frequency(\n",
    "            df_func.at[idx, func], step_size=step_size,\n",
    "            input_in_kcal=True, output_in_cm=True)\n"
   ]
  },
  {
   "cell_type": "markdown",
   "metadata": {},
   "source": [
    "## Step 4: Save Results"
   ]
  },
  {
   "cell_type": "code",
   "execution_count": 6,
   "metadata": {},
   "outputs": [
    {
     "name": "stdout",
     "output_type": "stream",
     "text": [
      "Saving results to Results.xlsx...\n"
     ]
    }
   ],
   "source": [
    "# Calculate absolute errors for each functional\n",
    "df_errors = df_func.copy()\n",
    "\n",
    "# Compute errors as (calculated - reference) for functional columns\n",
    "for func in df_errors.columns[2:]:  # Skip \"Dataset\" and \"Reference\" columns\n",
    "    df_errors[func] = df_func[func] - df_func[\"Reference\"]\n",
    "\n",
    "# Save both values and errors to Excel file\n",
    "print(\"Saving results to Results.xlsx...\")\n",
    "with pd.ExcelWriter(\"Results.xlsx\") as writer:\n",
    "    df_func.to_excel(writer, index=True, sheet_name=\"values\")\n",
    "    df_errors.to_excel(writer, index=True, sheet_name=\"errors\")\n"
   ]
  },
  {
   "cell_type": "markdown",
   "metadata": {},
   "source": [
    "## Step 5: Calculate Errors\n",
    "\n",
    "Compute root-mean-square error (RMSE), mean absolute error (MAE), mean signed error (MSE), and our metric errors (defined in the benchmark paper) for each functional."
   ]
  },
  {
   "cell_type": "code",
   "execution_count": 7,
   "metadata": {},
   "outputs": [
    {
     "name": "stdout",
     "output_type": "stream",
     "text": [
      "Calculating error metrics by dataset...\n",
      "Saving error metrics to Errors_per_set.xlsx...\n"
     ]
    }
   ],
   "source": [
    "# Load error data and supporting information\n",
    "df_error = pd.read_excel(\"Results.xlsx\", index_col=0, header=0, sheet_name=\"errors\")\n",
    "TMC34_weight = pd.read_excel(\"../Info/DatasetEval.xlsx\", index_col=0, header=0, sheet_name=\"TMC34\")\n",
    "df_dataset_info = pd.read_excel(\"../Info/Datasets.xlsx\", header=0, index_col=0, sheet_name=\"Sheet1\")\n",
    "\n",
    "# Get list of functionals (exclude Reference and Dataset columns)\n",
    "funcs = df_error.columns.tolist()\n",
    "funcs.remove(\"Reference\")\n",
    "funcs.remove(\"Dataset\")\n",
    "\n",
    "# Initialize dictionaries to store different error metrics\n",
    "df_rmse_sets = {}\n",
    "df_mae_sets = {}\n",
    "df_mse_sets = {}\n",
    "df_metric_set = {}\n",
    "\n",
    "print(\"Calculating error metrics by dataset...\")\n",
    "\n",
    "# Calculate error metrics for each dataset\n",
    "for dataset, df_dataset in df_error.groupby(\"Dataset\"):\n",
    "    # Skip problematic datasets\n",
    "    if dataset in [\"SC74\", \"OEEFD\"]:\n",
    "        continue\n",
    "    \n",
    "    # Initialize dataset entries with datatype information\n",
    "    datatype = df_dataset_info.loc[dataset, \"Datatype\"]\n",
    "    df_rmse_sets[dataset] = {\"Datatype\": datatype}\n",
    "    df_mae_sets[dataset] = {\"Datatype\": datatype}\n",
    "    df_metric_set[dataset] = {\"Datatype\": datatype}\n",
    "    df_mse_sets[dataset] = {\"Datatype\": datatype}\n",
    "    \n",
    "    # Calculate standard error metrics for each functional\n",
    "    for func in funcs:\n",
    "        if func in df_error.columns:\n",
    "            df_rmse_sets[dataset][func] = np.sqrt(np.mean(df_dataset[func]**2))  # Root Mean Square Error\n",
    "            df_mae_sets[dataset][func] = np.mean(np.abs(df_dataset[func]))       # Mean Absolute Error\n",
    "            df_mse_sets[dataset][func] = np.mean(df_dataset[func])               # Mean Signed Error\n",
    "            df_metric_set[dataset][func] = df_mae_sets[dataset][func]            # Default metric is MAE\n",
    "    \n",
    "    # Apply specialized metrics for specific datasets\n",
    "    # Mean Absolute Relative Error for polarizability and field-dependent datasets\n",
    "    if dataset in [\"Pol130\", \"HR46\", \"T144\", \"OEEF\", \"OEEFD\"]:\n",
    "        for func in funcs:\n",
    "            if func in df_error.columns:\n",
    "                df_metric_set[dataset][func] = np.mean(np.abs(df_dataset[func] / df_dataset[\"Reference\"]))\n",
    "    \n",
    "    # Weighted error for TMC datasets (thermochemistry)\n",
    "    if dataset in [\"TMD10\", \"MOR13\", \"TMB11\"]:\n",
    "        weight = TMC34_weight.loc[TMC34_weight[\"Dataset\"] == dataset, \"Weight\"].values\n",
    "        for func in funcs:\n",
    "            if func in df_error.columns:\n",
    "                weighted_errors = np.abs(df_dataset[func]) * weight[:-1]\n",
    "                df_metric_set[dataset][func] = np.sum(weighted_errors) + weight[-1]\n",
    "    \n",
    "    # Regularized MAE for dipole moments (normalized by max(|reference|, 1))\n",
    "    if dataset == \"Dip146\":\n",
    "        for func in funcs:\n",
    "            if func in df_error.columns:\n",
    "                df_metric_set[dataset][func] = np.mean(\n",
    "                    np.abs(df_dataset[func] / np.maximum(np.abs(df_dataset[\"Reference\"]), 1))\n",
    "                )\n",
    "\n",
    "# Convert dictionaries to DataFrames and sort by datatype and dataset name\n",
    "df_rmse_sets = pd.DataFrame(df_rmse_sets).T\n",
    "df_rmse_sets.index.name = \"Dataset\"\n",
    "df_rmse_sets = df_rmse_sets.sort_values(by=[\"Datatype\", \"Dataset\"])\n",
    "\n",
    "df_mae_sets = pd.DataFrame(df_mae_sets).T\n",
    "df_mae_sets.index.name = \"Dataset\"\n",
    "df_mae_sets = df_mae_sets.sort_values(by=[\"Datatype\", \"Dataset\"])\n",
    "\n",
    "df_metric_set = pd.DataFrame(df_metric_set).T\n",
    "df_metric_set.index.name = \"Dataset\"\n",
    "df_metric_set = df_metric_set.sort_values(by=[\"Datatype\", \"Dataset\"])\n",
    "\n",
    "df_mse_sets = pd.DataFrame(df_mse_sets).T\n",
    "df_mse_sets.index.name = \"Dataset\"\n",
    "df_mse_sets = df_mse_sets.sort_values(by=[\"Datatype\", \"Dataset\"])\n",
    "\n",
    "# Save all error metrics to Excel file\n",
    "print(\"Saving error metrics to Errors_per_set.xlsx...\")\n",
    "with pd.ExcelWriter(\"Errors_per_set.xlsx\") as writer:\n",
    "    df_rmse_sets.to_excel(writer, index=True, sheet_name=\"RMSE\")\n",
    "    df_mae_sets.to_excel(writer, index=True, sheet_name=\"MAE\")\n",
    "    df_metric_set.to_excel(writer, index=True, sheet_name=\"Metric\")\n",
    "    df_mse_sets.to_excel(writer, index=True, sheet_name=\"MSE\")"
   ]
  },
  {
   "cell_type": "markdown",
   "metadata": {},
   "source": [
    "## Step 6: Statistical Analysis by Dataset\n",
    "\n",
    "To establish a robust baseline for comparison, we define a “standard error” for each data set as the average of the second, third, and fourth lowest errors among all tested hybrid functionals.\n",
    "\n",
    "Then we calculate normalized error ratio (NER), defined as the ratio between its error and the standard error for a given data set."
   ]
  },
  {
   "cell_type": "code",
   "execution_count": 8,
   "metadata": {},
   "outputs": [
    {
     "name": "stdout",
     "output_type": "stream",
     "text": [
      "Calculating relative errors...\n",
      "Saved relative errors for cross-dataset comparison\n"
     ]
    }
   ],
   "source": [
    "# Load metric data and standard reference errors\n",
    "df_metric_set = pd.read_excel(\"Errors_per_set.xlsx\", index_col=0, header=0, sheet_name=\"Metric\")\n",
    "df_standard = pd.read_excel(\"../Info/Standard_errors.xlsx\", index_col=0, header=0)\n",
    "standard_metric = df_standard[\"Metric\"]\n",
    "\n",
    "# Calculate relative errors by normalizing against standard reference values\n",
    "df_errors_rel = df_metric_set.copy()\n",
    "\n",
    "print(\"Calculating relative errors...\")\n",
    "for func in df_metric_set.columns:\n",
    "    if func == \"Datatype\":\n",
    "        continue\n",
    "    if func in df_metric_set.columns:\n",
    "        # Normalize each functional's errors by the corresponding standard error\n",
    "        df_errors_rel[func] = df_metric_set[func] / standard_metric\n",
    "\n",
    "# Save relative errors\n",
    "df_errors_rel.to_excel(\"Relative_metric_per_set.xlsx\", index=True, header=True)\n",
    "print(\"Saved relative errors for cross-dataset comparison\")"
   ]
  },
  {
   "cell_type": "markdown",
   "metadata": {},
   "source": [
    "## Step 7: Generate Final Statistical Summary\n",
    "\n",
    "Create overall performance rankings by calculating mean relative errors across all datasets and by property type. Functionals are ranked by overall performance."
   ]
  },
  {
   "cell_type": "code",
   "execution_count": 9,
   "metadata": {},
   "outputs": [
    {
     "name": "stdout",
     "output_type": "stream",
     "text": [
      "Calculating statistics by property type...\n",
      "Analysis complete! Files generated:\n",
      "- Reaction_Energies.xlsx: Processed reaction energies\n",
      "- Results.xlsx: Values and errors for all functionals\n",
      "- Errors_per_set.xlsx: Error metrics by dataset\n",
      "- Relative_metric_per_set.xlsx: Normalized relative errors\n",
      "- Statistical_errors.xlsx: Final performance ranking\n",
      "\n",
      "Top 5 performing functionals (lowest mean relative error):\n",
      "1. wB97M-V: 1.077\n",
      "2. CF22D: 1.250\n",
      "3. wB97X-V: 1.320\n",
      "4. M062X: 1.964\n",
      "5. M052X: 1.970\n"
     ]
    }
   ],
   "source": [
    "# Load relative errors for final analysis\n",
    "df_errors_rel = pd.read_excel(\"Relative_metric_per_set.xlsx\", index_col=0, header=0)\n",
    "\n",
    "# Initialize summary statistics DataFrame\n",
    "df_errors = pd.DataFrame(columns=funcs)\n",
    "\n",
    "# Calculate overall mean relative error across all datasets\n",
    "df_errors.loc[\"Mean\"] = df_errors_rel[funcs].mean(axis=0)\n",
    "\n",
    "# Calculate mean relative error by property type (datatype)\n",
    "print(\"Calculating statistics by property type...\")\n",
    "for datatype, df_errors_set_datatype in df_errors_rel.groupby(\"Datatype\"):\n",
    "    df_errors_set_datatype = df_errors_set_datatype.drop(columns=[\"Datatype\"])\n",
    "    df_errors.loc[f\"Mean {datatype}\"] = df_errors_set_datatype.mean(axis=0)\n",
    "\n",
    "# Sort functionals by overall performance (ascending mean error)\n",
    "sorted_funcs = sorted(funcs, key=lambda x: df_errors.loc[\"Mean\", x])\n",
    "df_errors = df_errors[sorted_funcs]\n",
    "\n",
    "# Save final statistical summary\n",
    "df_errors.to_excel(\"Statistical_errors.xlsx\", index=True, header=True)\n",
    "\n",
    "print(\"Analysis complete! Files generated:\")\n",
    "print(\"- Reaction_Energies.xlsx: Processed reaction energies\")\n",
    "print(\"- Results.xlsx: Values and errors for all functionals\")\n",
    "print(\"- Errors_per_set.xlsx: Error metrics by dataset\")\n",
    "print(\"- Relative_metric_per_set.xlsx: Normalized relative errors\")\n",
    "print(\"- Statistical_errors.xlsx: Final performance ranking\")\n",
    "\n",
    "# Display top 5 performing functionals\n",
    "print(f\"\\nTop 5 performing functionals (lowest mean relative error):\")\n",
    "for i, func in enumerate(sorted_funcs[:5], 1):\n",
    "    mean_error = df_errors.loc[\"Mean\", func]\n",
    "    print(f\"{i}. {func}: {mean_error:.3f}\")"
   ]
  }
 ],
 "metadata": {
  "kernelspec": {
   "display_name": "Python 3",
   "language": "python",
   "name": "python3"
  },
  "language_info": {
   "codemirror_mode": {
    "name": "ipython",
    "version": 3
   },
   "file_extension": ".py",
   "mimetype": "text/x-python",
   "name": "python",
   "nbconvert_exporter": "python",
   "pygments_lexer": "ipython3",
   "version": "3.11.9"
  }
 },
 "nbformat": 4,
 "nbformat_minor": 4
}
